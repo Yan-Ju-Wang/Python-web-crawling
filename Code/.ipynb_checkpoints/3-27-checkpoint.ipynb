{
 "cells": [
  {
   "cell_type": "code",
   "execution_count": 2,
   "id": "e8c5579a",
   "metadata": {},
   "outputs": [
    {
     "name": "stdout",
     "output_type": "stream",
     "text": [
      "origin : [83, 41, 72, 58, 61, 36]\n",
      "1 round :[41, 72, 58, 61, 36, 83]\n",
      "2 round :[41, 58, 61, 36, 72, 83]\n",
      "3 round :[41, 58, 36, 61, 72, 83]\n",
      "4 round :[41, 36, 58, 61, 72, 83]\n",
      "5 round :[36, 41, 58, 61, 72, 83]\n"
     ]
    }
   ],
   "source": [
    "def bubble(list):\n",
    "    for round in range(1, len(list)):\n",
    "        for i in range(0, len(list)-round):\n",
    "            if list[i] > list[i+1]:\n",
    "                list[i], list[i+1] = list[i+1], list[i]\n",
    "        print(str(round) + ' round :' + str(list))\n",
    "\n",
    "    return\n",
    "\n",
    "if __name__ == '__main__':\n",
    "    list = [83, 41, 72, 58, 61, 36]\n",
    "    print('origin : ' + str(list))\n",
    "    bubble(list)"
   ]
  },
  {
   "cell_type": "code",
   "execution_count": null,
   "id": "616ac894",
   "metadata": {},
   "outputs": [],
   "source": []
  }
 ],
 "metadata": {
  "kernelspec": {
   "display_name": "Python 3 (ipykernel)",
   "language": "python",
   "name": "python3"
  },
  "language_info": {
   "codemirror_mode": {
    "name": "ipython",
    "version": 3
   },
   "file_extension": ".py",
   "mimetype": "text/x-python",
   "name": "python",
   "nbconvert_exporter": "python",
   "pygments_lexer": "ipython3",
   "version": "3.9.13"
  }
 },
 "nbformat": 4,
 "nbformat_minor": 5
}
