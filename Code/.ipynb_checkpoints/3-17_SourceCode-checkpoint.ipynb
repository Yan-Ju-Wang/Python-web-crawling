{
 "cells": [
  {
   "cell_type": "markdown",
   "metadata": {},
   "source": [
    "# Comprehensions 巢狀迴圈"
   ]
  },
  {
   "cell_type": "markdown",
   "metadata": {},
   "source": [
    "## 範例1\n",
    "使用Comprehensions 巢狀迴圈撰寫九九乘法表"
   ]
  },
  {
   "cell_type": "code",
   "execution_count": null,
   "metadata": {},
   "outputs": [],
   "source": [
    "for i in range(1, 10):\n",
    "    for j in range(1, 10):\n",
    "        print(f'{i}x{j}={i*j}')"
   ]
  },
  {
   "cell_type": "code",
   "execution_count": null,
   "metadata": {},
   "outputs": [],
   "source": [
    "[[f'{i}x{j}={i*j}' for j in range(1,10)] for i in range(1,10)]"
   ]
  },
  {
   "cell_type": "markdown",
   "metadata": {},
   "source": [
    "## 範例2\n",
    "在1到9的數字中，找出3的倍數數字，然後再找出數字是奇數還是偶數，如果是奇數，就在數字後方接上字串'是奇數'，偶數就接上'是偶數'，最後將結果放在list 中"
   ]
  },
  {
   "cell_type": "code",
   "execution_count": 4,
   "metadata": {},
   "outputs": [
    {
     "name": "stdout",
     "output_type": "stream",
     "text": [
      "['3是奇數', '6是偶數', '9是奇數']\n"
     ]
    }
   ],
   "source": [
    "ret = []\n",
    "for num in range(1, 10):\n",
    "    if num%3 == 0:\n",
    "        if num % 2 == 0:\n",
    "            ret.append(str(num)+'是偶數')\n",
    "        else:\n",
    "            ret.append(str(num)+'是奇數')\n",
    "print(ret)"
   ]
  },
  {
   "cell_type": "code",
   "execution_count": 3,
   "metadata": {},
   "outputs": [
    {
     "data": {
      "text/plain": [
       "['3是奇數', '6是偶數', '9是奇數']"
      ]
     },
     "execution_count": 3,
     "metadata": {},
     "output_type": "execute_result"
    }
   ],
   "source": [
    "[str(num)+'是偶數' if num % 2 == 0 else str(num)+'是奇數' for num in range(1, 10) if num%3 == 0]"
   ]
  },
  {
   "cell_type": "code",
   "execution_count": null,
   "metadata": {},
   "outputs": [],
   "source": []
  }
 ],
 "metadata": {
  "kernelspec": {
   "display_name": "Python 3 (ipykernel)",
   "language": "python",
   "name": "python3"
  },
  "language_info": {
   "codemirror_mode": {
    "name": "ipython",
    "version": 3
   },
   "file_extension": ".py",
   "mimetype": "text/x-python",
   "name": "python",
   "nbconvert_exporter": "python",
   "pygments_lexer": "ipython3",
   "version": "3.9.13"
  }
 },
 "nbformat": 4,
 "nbformat_minor": 4
}
