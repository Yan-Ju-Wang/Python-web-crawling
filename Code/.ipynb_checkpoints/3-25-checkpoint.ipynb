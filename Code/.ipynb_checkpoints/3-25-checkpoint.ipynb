{
 "cells": [
  {
   "cell_type": "markdown",
   "metadata": {},
   "source": [
    "## 檔案輸入與輸出\n",
    "\n",
    "    open('路徑', '模式')\n",
    "\n",
    "### 模式\n",
    "https://docs.python.org/3/library/functions.html#open\n",
    "* r : 讀取檔案，如果沒有檔案會發生錯誤\n",
    "* w : 寫入內容，如果沒有檔案會自動產生\n",
    "* x : 建立檔案\n",
    "* a : 打開文件，並且在最後結尾繼續寫入資料\n",
    "* t : 一般文字檔，default模式使用t\n",
    "* b : 二進位模式，例如模式設定為rb，讀取圖片檔\n",
    "\n",
    "### 寫入內容\n",
    "    write()\n",
    "    \n",
    "### 關閉檔案\n",
    "    try:\n",
    "        打開檔案\n",
    "    finally:\n",
    "        close()"
   ]
  },
  {
   "cell_type": "code",
   "execution_count": 1,
   "metadata": {},
   "outputs": [],
   "source": [
    "try:\n",
    "    file = open('C:\\\\Users\\\\Yan-Ju-Wang\\\\Jupyter_Notebook\\\\Python基礎課程和網路爬蟲入門實戰_Udemy\\\\demo.txt', 'w')\n",
    "    file.write('test1, test2\\n')\n",
    "    file.write('testA, test2B\\n')\n",
    "finally:\n",
    "    file.close()"
   ]
  },
  {
   "cell_type": "markdown",
   "metadata": {},
   "source": [
    "### 讀取資料\n",
    "\n",
    "    read()\n",
    "    for迴圈讀取每一行資料\n",
    "    readlines()"
   ]
  },
  {
   "cell_type": "code",
   "execution_count": 2,
   "metadata": {},
   "outputs": [
    {
     "name": "stdout",
     "output_type": "stream",
     "text": [
      "['test1, test2\\n', 'testA, test2B\\n']\n"
     ]
    }
   ],
   "source": [
    "with open('C:\\\\Users\\\\Yan-Ju-Wang\\\\Jupyter_Notebook\\\\Python基礎課程和網路爬蟲入門實戰_Udemy\\\\demo.txt', 'r') as f:\n",
    "    list = f.readlines()\n",
    "    print(list)"
   ]
  },
  {
   "cell_type": "code",
   "execution_count": null,
   "metadata": {},
   "outputs": [],
   "source": []
  }
 ],
 "metadata": {
  "kernelspec": {
   "display_name": "Python 3 (ipykernel)",
   "language": "python",
   "name": "python3"
  },
  "language_info": {
   "codemirror_mode": {
    "name": "ipython",
    "version": 3
   },
   "file_extension": ".py",
   "mimetype": "text/x-python",
   "name": "python",
   "nbconvert_exporter": "python",
   "pygments_lexer": "ipython3",
   "version": "3.9.13"
  }
 },
 "nbformat": 4,
 "nbformat_minor": 2
}
