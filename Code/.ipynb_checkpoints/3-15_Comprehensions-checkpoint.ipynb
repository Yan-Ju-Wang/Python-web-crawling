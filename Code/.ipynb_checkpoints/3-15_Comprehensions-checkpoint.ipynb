{
 "cells": [
  {
   "cell_type": "markdown",
   "metadata": {},
   "source": [
    "# Comprehensions"
   ]
  },
  {
   "cell_type": "markdown",
   "metadata": {},
   "source": [
    "## 範例1\n",
    "* 建立一個List，包含Python, Java, C, Javascript, Go 五個程式語言的字串\n",
    "* 列印出來"
   ]
  },
  {
   "cell_type": "code",
   "execution_count": 1,
   "metadata": {},
   "outputs": [
    {
     "name": "stdout",
     "output_type": "stream",
     "text": [
      "Python\n",
      "Java\n",
      "C\n",
      "Javascript\n",
      "Go\n",
      "Swift\n"
     ]
    }
   ],
   "source": [
    "lans = ['Python', 'Java', 'C', 'Javascript', 'Go', 'Swift']\n",
    "for lan in lans :\n",
    "    print(lan)"
   ]
  },
  {
   "cell_type": "markdown",
   "metadata": {},
   "source": [
    "## 範例2\n",
    "* 過濾出List 中包含有字母 J 的程式語言\n",
    "* 將過濾出來的程式語言放在一個新的List 當中"
   ]
  },
  {
   "cell_type": "code",
   "execution_count": 2,
   "metadata": {},
   "outputs": [
    {
     "name": "stdout",
     "output_type": "stream",
     "text": [
      "['Java', 'Javascript']\n"
     ]
    }
   ],
   "source": [
    "jList = []\n",
    "for lan in lans:\n",
    "    if 'J' in lan:\n",
    "        jList.append(lan)\n",
    "        \n",
    "print(jList)\n",
    "        "
   ]
  },
  {
   "cell_type": "markdown",
   "metadata": {},
   "source": [
    "## Comprehensions 語法\n",
    "\\[ <span style=\"color: red; \">expression</span> for <span style=\"color: red; \">var</span> in <span style=\"color: red; \">iterable</span>  if <span style=\"color: red; \">condition</span>  \\]"
   ]
  },
  {
   "cell_type": "markdown",
   "metadata": {},
   "source": [
    "## 範例3\n",
    "示範用Comprehensions 語法撰寫上述範例"
   ]
  },
  {
   "cell_type": "code",
   "execution_count": 3,
   "metadata": {},
   "outputs": [
    {
     "data": {
      "text/plain": [
       "['Java', 'Javascript']"
      ]
     },
     "execution_count": 3,
     "metadata": {},
     "output_type": "execute_result"
    }
   ],
   "source": [
    "[lan for lan in lans if 'J' in lan]"
   ]
  },
  {
   "cell_type": "markdown",
   "metadata": {},
   "source": [
    "## 課後練習\n",
    "請用Set Comprehensions，找出公司名稱包含英文字母'O'的字串\n",
    "提示：\n",
    "* Set 用大括弧\n",
    "* 注意英文字母大小寫"
   ]
  },
  {
   "cell_type": "code",
   "execution_count": 4,
   "metadata": {},
   "outputs": [],
   "source": [
    "coms = ['APPLE', 'GOOGLE', 'AMAZONE', 'TSLA']"
   ]
  },
  {
   "cell_type": "code",
   "execution_count": 5,
   "metadata": {},
   "outputs": [
    {
     "data": {
      "text/plain": [
       "{'AMAZONE', 'GOOGLE'}"
      ]
     },
     "execution_count": 5,
     "metadata": {},
     "output_type": "execute_result"
    }
   ],
   "source": [
    "{com for com in coms if 'O' in com}"
   ]
  },
  {
   "cell_type": "code",
   "execution_count": null,
   "metadata": {},
   "outputs": [],
   "source": []
  }
 ],
 "metadata": {
  "kernelspec": {
   "display_name": "Python 3 (ipykernel)",
   "language": "python",
   "name": "python3"
  },
  "language_info": {
   "codemirror_mode": {
    "name": "ipython",
    "version": 3
   },
   "file_extension": ".py",
   "mimetype": "text/x-python",
   "name": "python",
   "nbconvert_exporter": "python",
   "pygments_lexer": "ipython3",
   "version": "3.9.13"
  }
 },
 "nbformat": 4,
 "nbformat_minor": 4
}
