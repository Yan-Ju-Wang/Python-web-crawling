{
 "cells": [
  {
   "cell_type": "markdown",
   "metadata": {},
   "source": [
    "## NBA資料下載與資料庫整合實作\n",
    "\n",
    "### Header\n",
    "    custom_headers = {\n",
    "        'Host': 'stats.nba.com',\n",
    "        'Connection': 'keep-alive',\n",
    "        'Cache-Control': 'max-age=0',\n",
    "        'Upgrade-Insecure-Requests': '1',\n",
    "        'User-Agent': 'Mozilla/5.0 (Macintosh; Intel Mac OS X 10_14_3) AppleWebKit/537.36 (KHTML, like Gecko) Chrome/73.0.3683.86 Safari/537.36',\n",
    "        'Accept': 'text/html,application/xhtml+xml,application/xml;q=0.9,image/webp,image/apng,*/*;q=0.8,application/signed-exchange;v=b3',\n",
    "        'Accept-Encoding': 'gzip, deflate, br',\n",
    "        'Accept-Language': 'en-US,en;q=0.9',\n",
    "    }\n",
    "\n",
    "### General 數據資料\n",
    "https://stats.nba.com/stats/leaguedashplayerstats?College=&Conference=&Country=&DateFrom=&DateTo=&Division=&DraftPick=&DraftYear=&GameScope=&GameSegment=&Height=&LastNGames=0&LeagueID=00&Location=&MeasureType=Base&Month=0&OpponentTeamID=0&Outcome=&PORound=0&PaceAdjust=N&PerMode=PerGame&Period=0&PlayerExperience=&PlayerPosition=&PlusMinus=N&Rank=N&Season=2018-19&SeasonSegment=&SeasonType=Regular+Season&ShotClockRange=&StarterBench=&TeamID=0&TwoWay=0&VsConference=&VsDivision=&Weight=\n",
    "\n",
    "### Shooting 數據資料\n",
    "https://stats.nba.com/stats/leaguedashplayershotlocations?College=&Conference=&Country=&DateFrom=&DateTo=&DistanceRange=By+Zone&Division=&DraftPick=&DraftYear=&GameScope=&GameSegment=&Height=&LastNGames=0&LeagueID=00&Location=&MeasureType=Base&Month=0&OpponentTeamID=0&Outcome=&PORound=0&PaceAdjust=N&PerMode=PerGame&Period=0&PlayerExperience=&PlayerPosition=&PlusMinus=N&Rank=N&Season=2018-19&SeasonSegment=&SeasonType=Regular+Season&ShotClockRange=&StarterBench=&TeamID=0&VsConference=&VsDivision=&Weight=\n",
    "\n"
   ]
  },
  {
   "cell_type": "code",
   "execution_count": 3,
   "metadata": {},
   "outputs": [
    {
     "name": "stdout",
     "output_type": "stream",
     "text": [
      "insert general table\n",
      "insert shooting table\n",
      "finish\n"
     ]
    }
   ],
   "source": [
    "import sqlite3\n",
    "import requests\n",
    "import json\n",
    "\n",
    "custom_headers = {\n",
    "    'Host': 'stats.nba.com',\n",
    "    'Connection': 'keep-alive',\n",
    "    'Cache-Control': 'max-age=0',\n",
    "    'Upgrade-Insecure-Requests': '1',\n",
    "    'User-Agent': 'Mozilla/5.0 (Macintosh; Intel Mac OS X 10_14_3) AppleWebKit/537.36 (KHTML, like Gecko) Chrome/73.0.3683.86 Safari/537.36',\n",
    "    'Accept': 'text/html,application/xhtml+xml,application/xml;q=0.9,image/webp,image/apng,*/*;q=0.8,application/signed-exchange;v=b3',\n",
    "    'Accept-Encoding': 'gzip, deflate, br',\n",
    "    'Accept-Language': 'en-US,en;q=0.9',\n",
    "}\n",
    "\n",
    "conn = sqlite3.connect('/Users/ryan/tmp/test.db')\n",
    "cur = conn.cursor()\n",
    "try:\n",
    "    gen_url = 'https://stats.nba.com/stats/leaguedashplayerstats?College=&Conference=&Country=&DateFrom=&DateTo=&Division=&DraftPick=&DraftYear=&GameScope=&GameSegment=&Height=&LastNGames=0&LeagueID=00&Location=&MeasureType=Base&Month=0&OpponentTeamID=0&Outcome=&PORound=0&PaceAdjust=N&PerMode=PerGame&Period=0&PlayerExperience=&PlayerPosition=&PlusMinus=N&Rank=N&Season=2018-19&SeasonSegment=&SeasonType=Regular+Season&ShotClockRange=&StarterBench=&TeamID=0&TwoWay=0&VsConference=&VsDivision=&Weight='\n",
    "    gen_resp = requests.get(gen_url, headers = custom_headers)\n",
    "    gen_datas = json.loads(gen_resp.text)\n",
    "    print('insert general table')\n",
    "    for gen_data in gen_datas['resultSets'][0]['rowSet']:\n",
    "        cur.execute('insert into nba_general(player_id, player_name, gp, pts, fgm, fga, fg_per) values (?, ?, ?, ?, ?, ?, ?)', \n",
    "                   (gen_data[0], gen_data[1], gen_data[5], gen_data[29], gen_data[10], gen_data[11], gen_data[12]))\n",
    "        \n",
    "    sho_url = 'https://stats.nba.com/stats/leaguedashplayershotlocations?College=&Conference=&Country=&DateFrom=&DateTo=&DistanceRange=By+Zone&Division=&DraftPick=&DraftYear=&GameScope=&GameSegment=&Height=&LastNGames=0&LeagueID=00&Location=&MeasureType=Base&Month=0&OpponentTeamID=0&Outcome=&PORound=0&PaceAdjust=N&PerMode=PerGame&Period=0&PlayerExperience=&PlayerPosition=&PlusMinus=N&Rank=N&Season=2018-19&SeasonSegment=&SeasonType=Regular+Season&ShotClockRange=&StarterBench=&TeamID=0&VsConference=&VsDivision=&Weight='\n",
    "    sho_resp = requests.get(sho_url, headers=custom_headers)\n",
    "    sho_datas = json.loads(sho_resp.text)\n",
    "    print('insert shooting table')\n",
    "    for sho_data in sho_datas['resultSets']['rowSet']:\n",
    "        cur.execute('insert into nba_shooting (player_id, res_fgm, res_fga, res_fg_per, pai_fgm, pai_fga, pai_fg_per, mid_fgm, mid_fga, mid_fg_per, left3_fgm, left3_fga, left3_fg_per, right3_fgm, right3_fga, right3_fg_per, pt3_fgm, pt3_fga, pt3_fg_per) values (?, ?, ?, ?, ?, ?, ?, ?, ?, ?, ?, ?, ?, ?, ?, ?, ?, ?, ?)',\n",
    "                    (sho_data[0], sho_data[5], sho_data[6], sho_data[7], sho_data[8], sho_data[9], sho_data[10], sho_data[11], sho_data[12], sho_data[13], sho_data[14], sho_data[15], sho_data[16], sho_data[17], sho_data[18], sho_data[19], sho_data[20], sho_data[21], sho_data[22]))\n",
    "        \n",
    "    conn.commit()                \n",
    "                    \n",
    "                    \n",
    "finally:\n",
    "    conn.close()\n",
    "    print('finish')\n",
    "\n",
    "\n",
    "\n"
   ]
  },
  {
   "cell_type": "code",
   "execution_count": null,
   "metadata": {},
   "outputs": [],
   "source": []
  }
 ],
 "metadata": {
  "kernelspec": {
   "display_name": "Python 3",
   "language": "python",
   "name": "python3"
  },
  "language_info": {
   "codemirror_mode": {
    "name": "ipython",
    "version": 3
   },
   "file_extension": ".py",
   "mimetype": "text/x-python",
   "name": "python",
   "nbconvert_exporter": "python",
   "pygments_lexer": "ipython3",
   "version": "3.7.3"
  }
 },
 "nbformat": 4,
 "nbformat_minor": 2
}
