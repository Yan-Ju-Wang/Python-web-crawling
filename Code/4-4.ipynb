{
 "cells": [
  {
   "cell_type": "markdown",
   "metadata": {},
   "source": [
    "## PTT NBA\n",
    "\n",
    "[https://www.ptt.cc/bbs/NBA/index.html](https://www.ptt.cc/bbs/NBA/index.html)\n",
    "\n"
   ]
  },
  {
   "cell_type": "code",
   "execution_count": 1,
   "metadata": {},
   "outputs": [
    {
     "name": "stdout",
     "output_type": "stream",
     "text": [
      "9/04 41:Re: [花邊] 巴黎奧運入選隊伍=世界盃+奧運資格賽\n",
      "9/04 81:[情報] Schroder對德國隊教頭：別這樣碰我！\n",
      "9/04 56:[情報] Patrick McCaw 護照出包，遭遣返回美國\n",
      "9/04 44:[情報] Anthony Edwards美國男籃第3位世界盃得35+\n",
      "9/04 51:[花邊]立陶宛Kariniauskas談對AR吐舌:我認識他哥\n",
      "9/04 27:[情報] 狄龍世界盃高效3D 正負值全隊最高\n",
      "9/04 19:[情報] FIBA發布世界盃MVP榜第二期：077、SGA、A\n",
      "9/04 26:[花邊] Kerr:我並不擔心奧運，現在只專注世界盃\n",
      "9/04 69:[花邊] Gobert:FIBA打球要思考 NBA打球有時不用想\n",
      "9/04 14:[新聞] KBM-單場60分還打不服你？　托平：SGA進\n",
      "9/04 82:[討論] 為何只有美國隊的NBA球星會被看破手腳?\n",
      "9/04 爆:[花邊] MPJ將來台灣為中信兄弟開球\n",
      "9/04 19:[討論] 新球季爵士是如何組成的 ft.青賽騎士灰狼\n",
      "9/04 14:[討論] 美國夢幻隊哪次輸球最令人吃驚？\n",
      "9/04 21:(已被EZ78刪除) <hgt>2-4\n",
      "9/04 50:(已被EZ78刪除) <ted010233>2-2\n"
     ]
    }
   ],
   "source": [
    "import requests\n",
    "from bs4 import BeautifulSoup\n",
    "import time\n",
    "\n",
    "today = time.strftime('%m/%d').lstrip('0')\n",
    "\n",
    "def pttNBA(url):\n",
    "    resp = requests.get(url)\n",
    "    if resp.status_code != 200:\n",
    "        print('URL發生錯誤：' + url)\n",
    "        return\n",
    "    \n",
    "    soup = BeautifulSoup(resp.text, 'html5lib')\n",
    "    paging = soup.find('div', 'btn-group btn-group-paging').find_all('a')[1]['href']\n",
    "    \n",
    "    articles = []\n",
    "    rents = soup.find_all('div', 'r-ent')\n",
    "    for rent in rents:\n",
    "        title = rent.find('div', 'title').text.strip()\n",
    "        count = rent.find('div', 'nrec').text.strip()\n",
    "        date = rent.find('div', 'meta').find('div', 'date').text.strip()\n",
    "        article = '%s %s:%s' % (date, count, title)\n",
    "        \n",
    "        try:\n",
    "            if today == date and int(count) > 10:\n",
    "                articles.append(article)\n",
    "        except:\n",
    "            if today == date and count == '爆':\n",
    "                articles.append(article)\n",
    "    \n",
    "    if len(articles) != 0:\n",
    "        for article in articles:\n",
    "            print(article)\n",
    "        pttNBA('https://www.ptt.cc' + paging)\n",
    "    else:\n",
    "        return\n",
    "    \n",
    "pttNBA('https://www.ptt.cc/bbs/NBA/index.html')\n"
   ]
  },
  {
   "cell_type": "code",
   "execution_count": 11,
   "metadata": {},
   "outputs": [],
   "source": []
  },
  {
   "cell_type": "code",
   "execution_count": null,
   "metadata": {},
   "outputs": [],
   "source": []
  }
 ],
 "metadata": {
  "kernelspec": {
   "display_name": "Python 3 (ipykernel)",
   "language": "python",
   "name": "python3"
  },
  "language_info": {
   "codemirror_mode": {
    "name": "ipython",
    "version": 3
   },
   "file_extension": ".py",
   "mimetype": "text/x-python",
   "name": "python",
   "nbconvert_exporter": "python",
   "pygments_lexer": "ipython3",
   "version": "3.9.13"
  }
 },
 "nbformat": 4,
 "nbformat_minor": 2
}
